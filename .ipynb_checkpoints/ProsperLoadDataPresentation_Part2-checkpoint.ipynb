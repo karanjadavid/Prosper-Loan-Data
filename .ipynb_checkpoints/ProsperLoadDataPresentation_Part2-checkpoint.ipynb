{
 "cells": [
  {
   "cell_type": "markdown",
   "id": "32bdeed3",
   "metadata": {
    "slideshow": {
     "slide_type": "slide"
    }
   },
   "source": [
    "# Part I - (Prosper Loan Data Presentation)\n",
    "## by (David Karanja Mwangi)"
   ]
  },
  {
   "cell_type": "markdown",
   "id": "6cc193b3",
   "metadata": {
    "slideshow": {
     "slide_type": "slide"
    }
   },
   "source": [
    "## Investigation Overview\n",
    "\n",
    "The goal of this Exploration is to understand how the Loan Term is influenced by other factors or attributes about the loan and the client. \n",
    "An exploration into the estimated returns and estimated losses associated with different loan Terms.\n",
    "The geograhic location of borrowers and whether they own homes or not."
   ]
  },
  {
   "cell_type": "markdown",
   "id": "d4f0dfd9",
   "metadata": {
    "slideshow": {
     "slide_type": "slide"
    }
   },
   "source": [
    "## Dataset Overview\n",
    "\n",
    "The Prosper loan data set contains 113,937 loans with 81 variables on each loan, including \n",
    "- loan amount, \n",
    "- borrower rate (or interest rate), \n",
    "- current loan status, \n",
    "- borrower income, and many others."
   ]
  },
  {
   "cell_type": "code",
   "execution_count": 1,
   "id": "027c8666",
   "metadata": {
    "slideshow": {
     "slide_type": "skip"
    }
   },
   "outputs": [],
   "source": [
    "# import libraries\n",
    "import matplotlib.pyplot as plt\n",
    "import numpy as np\n",
    "import pandas as pd\n",
    "import requests\n",
    "import seaborn as sns\n",
    "\n",
    "%matplotlib inline"
   ]
  },
  {
   "cell_type": "code",
   "execution_count": 2,
   "id": "f81f38d7",
   "metadata": {
    "slideshow": {
     "slide_type": "skip"
    }
   },
   "outputs": [
    {
     "data": {
      "text/plain": [
       "86471101"
      ]
     },
     "execution_count": 2,
     "metadata": {},
     "output_type": "execute_result"
    }
   ],
   "source": [
    "# download the data programmatically\n",
    "\n",
    "url=\"https://s3.amazonaws.com/udacity-hosted-downloads/ud651/prosperLoanData.csv\"\n",
    "response = requests.get(url)\n",
    "open(\"prosperLoanData.csv\", \"wb\").write(response.content)"
   ]
  },
  {
   "cell_type": "code",
   "execution_count": 2,
   "id": "2a59f638",
   "metadata": {
    "slideshow": {
     "slide_type": "skip"
    }
   },
   "outputs": [],
   "source": [
    "# load the data\n",
    "loans=pd.read_csv('prosperLoanData.csv')"
   ]
  },
  {
   "cell_type": "markdown",
   "id": "9116e4b6",
   "metadata": {
    "slideshow": {
     "slide_type": "skip"
    }
   },
   "source": [
    "### Overview the data"
   ]
  },
  {
   "cell_type": "code",
   "execution_count": 3,
   "id": "d2ae345a",
   "metadata": {
    "slideshow": {
     "slide_type": "skip"
    }
   },
   "outputs": [
    {
     "data": {
      "text/plain": [
       "(113937, 81)"
      ]
     },
     "execution_count": 3,
     "metadata": {},
     "output_type": "execute_result"
    }
   ],
   "source": [
    "# Number of rows and columns\n",
    "loans.shape"
   ]
  },
  {
   "cell_type": "code",
   "execution_count": 4,
   "id": "e60c1570",
   "metadata": {
    "slideshow": {
     "slide_type": "skip"
    }
   },
   "outputs": [
    {
     "data": {
      "text/html": [
       "<div>\n",
       "<style scoped>\n",
       "    .dataframe tbody tr th:only-of-type {\n",
       "        vertical-align: middle;\n",
       "    }\n",
       "\n",
       "    .dataframe tbody tr th {\n",
       "        vertical-align: top;\n",
       "    }\n",
       "\n",
       "    .dataframe thead th {\n",
       "        text-align: right;\n",
       "    }\n",
       "</style>\n",
       "<table border=\"1\" class=\"dataframe\">\n",
       "  <thead>\n",
       "    <tr style=\"text-align: right;\">\n",
       "      <th></th>\n",
       "      <th>ListingKey</th>\n",
       "      <th>ListingNumber</th>\n",
       "      <th>ListingCreationDate</th>\n",
       "      <th>CreditGrade</th>\n",
       "      <th>Term</th>\n",
       "      <th>LoanStatus</th>\n",
       "      <th>ClosedDate</th>\n",
       "      <th>BorrowerAPR</th>\n",
       "      <th>BorrowerRate</th>\n",
       "      <th>LenderYield</th>\n",
       "      <th>...</th>\n",
       "      <th>LP_ServiceFees</th>\n",
       "      <th>LP_CollectionFees</th>\n",
       "      <th>LP_GrossPrincipalLoss</th>\n",
       "      <th>LP_NetPrincipalLoss</th>\n",
       "      <th>LP_NonPrincipalRecoverypayments</th>\n",
       "      <th>PercentFunded</th>\n",
       "      <th>Recommendations</th>\n",
       "      <th>InvestmentFromFriendsCount</th>\n",
       "      <th>InvestmentFromFriendsAmount</th>\n",
       "      <th>Investors</th>\n",
       "    </tr>\n",
       "  </thead>\n",
       "  <tbody>\n",
       "    <tr>\n",
       "      <th>0</th>\n",
       "      <td>1021339766868145413AB3B</td>\n",
       "      <td>193129</td>\n",
       "      <td>2007-08-26 19:09:29.263000000</td>\n",
       "      <td>C</td>\n",
       "      <td>36</td>\n",
       "      <td>Completed</td>\n",
       "      <td>2009-08-14 00:00:00</td>\n",
       "      <td>0.16516</td>\n",
       "      <td>0.1580</td>\n",
       "      <td>0.1380</td>\n",
       "      <td>...</td>\n",
       "      <td>-133.18</td>\n",
       "      <td>0.0</td>\n",
       "      <td>0.0</td>\n",
       "      <td>0.0</td>\n",
       "      <td>0.0</td>\n",
       "      <td>1.0</td>\n",
       "      <td>0</td>\n",
       "      <td>0</td>\n",
       "      <td>0.0</td>\n",
       "      <td>258</td>\n",
       "    </tr>\n",
       "    <tr>\n",
       "      <th>1</th>\n",
       "      <td>10273602499503308B223C1</td>\n",
       "      <td>1209647</td>\n",
       "      <td>2014-02-27 08:28:07.900000000</td>\n",
       "      <td>NaN</td>\n",
       "      <td>36</td>\n",
       "      <td>Current</td>\n",
       "      <td>NaN</td>\n",
       "      <td>0.12016</td>\n",
       "      <td>0.0920</td>\n",
       "      <td>0.0820</td>\n",
       "      <td>...</td>\n",
       "      <td>0.00</td>\n",
       "      <td>0.0</td>\n",
       "      <td>0.0</td>\n",
       "      <td>0.0</td>\n",
       "      <td>0.0</td>\n",
       "      <td>1.0</td>\n",
       "      <td>0</td>\n",
       "      <td>0</td>\n",
       "      <td>0.0</td>\n",
       "      <td>1</td>\n",
       "    </tr>\n",
       "    <tr>\n",
       "      <th>2</th>\n",
       "      <td>0EE9337825851032864889A</td>\n",
       "      <td>81716</td>\n",
       "      <td>2007-01-05 15:00:47.090000000</td>\n",
       "      <td>HR</td>\n",
       "      <td>36</td>\n",
       "      <td>Completed</td>\n",
       "      <td>2009-12-17 00:00:00</td>\n",
       "      <td>0.28269</td>\n",
       "      <td>0.2750</td>\n",
       "      <td>0.2400</td>\n",
       "      <td>...</td>\n",
       "      <td>-24.20</td>\n",
       "      <td>0.0</td>\n",
       "      <td>0.0</td>\n",
       "      <td>0.0</td>\n",
       "      <td>0.0</td>\n",
       "      <td>1.0</td>\n",
       "      <td>0</td>\n",
       "      <td>0</td>\n",
       "      <td>0.0</td>\n",
       "      <td>41</td>\n",
       "    </tr>\n",
       "    <tr>\n",
       "      <th>3</th>\n",
       "      <td>0EF5356002482715299901A</td>\n",
       "      <td>658116</td>\n",
       "      <td>2012-10-22 11:02:35.010000000</td>\n",
       "      <td>NaN</td>\n",
       "      <td>36</td>\n",
       "      <td>Current</td>\n",
       "      <td>NaN</td>\n",
       "      <td>0.12528</td>\n",
       "      <td>0.0974</td>\n",
       "      <td>0.0874</td>\n",
       "      <td>...</td>\n",
       "      <td>-108.01</td>\n",
       "      <td>0.0</td>\n",
       "      <td>0.0</td>\n",
       "      <td>0.0</td>\n",
       "      <td>0.0</td>\n",
       "      <td>1.0</td>\n",
       "      <td>0</td>\n",
       "      <td>0</td>\n",
       "      <td>0.0</td>\n",
       "      <td>158</td>\n",
       "    </tr>\n",
       "    <tr>\n",
       "      <th>4</th>\n",
       "      <td>0F023589499656230C5E3E2</td>\n",
       "      <td>909464</td>\n",
       "      <td>2013-09-14 18:38:39.097000000</td>\n",
       "      <td>NaN</td>\n",
       "      <td>36</td>\n",
       "      <td>Current</td>\n",
       "      <td>NaN</td>\n",
       "      <td>0.24614</td>\n",
       "      <td>0.2085</td>\n",
       "      <td>0.1985</td>\n",
       "      <td>...</td>\n",
       "      <td>-60.27</td>\n",
       "      <td>0.0</td>\n",
       "      <td>0.0</td>\n",
       "      <td>0.0</td>\n",
       "      <td>0.0</td>\n",
       "      <td>1.0</td>\n",
       "      <td>0</td>\n",
       "      <td>0</td>\n",
       "      <td>0.0</td>\n",
       "      <td>20</td>\n",
       "    </tr>\n",
       "    <tr>\n",
       "      <th>5</th>\n",
       "      <td>0F05359734824199381F61D</td>\n",
       "      <td>1074836</td>\n",
       "      <td>2013-12-14 08:26:37.093000000</td>\n",
       "      <td>NaN</td>\n",
       "      <td>60</td>\n",
       "      <td>Current</td>\n",
       "      <td>NaN</td>\n",
       "      <td>0.15425</td>\n",
       "      <td>0.1314</td>\n",
       "      <td>0.1214</td>\n",
       "      <td>...</td>\n",
       "      <td>-25.33</td>\n",
       "      <td>0.0</td>\n",
       "      <td>0.0</td>\n",
       "      <td>0.0</td>\n",
       "      <td>0.0</td>\n",
       "      <td>1.0</td>\n",
       "      <td>0</td>\n",
       "      <td>0</td>\n",
       "      <td>0.0</td>\n",
       "      <td>1</td>\n",
       "    </tr>\n",
       "    <tr>\n",
       "      <th>6</th>\n",
       "      <td>0F0A3576754255009D63151</td>\n",
       "      <td>750899</td>\n",
       "      <td>2013-04-12 09:52:56.147000000</td>\n",
       "      <td>NaN</td>\n",
       "      <td>36</td>\n",
       "      <td>Current</td>\n",
       "      <td>NaN</td>\n",
       "      <td>0.31032</td>\n",
       "      <td>0.2712</td>\n",
       "      <td>0.2612</td>\n",
       "      <td>...</td>\n",
       "      <td>-22.95</td>\n",
       "      <td>0.0</td>\n",
       "      <td>0.0</td>\n",
       "      <td>0.0</td>\n",
       "      <td>0.0</td>\n",
       "      <td>1.0</td>\n",
       "      <td>0</td>\n",
       "      <td>0</td>\n",
       "      <td>0.0</td>\n",
       "      <td>1</td>\n",
       "    </tr>\n",
       "    <tr>\n",
       "      <th>7</th>\n",
       "      <td>0F1035772717087366F9EA7</td>\n",
       "      <td>768193</td>\n",
       "      <td>2013-05-05 06:49:27.493000000</td>\n",
       "      <td>NaN</td>\n",
       "      <td>36</td>\n",
       "      <td>Current</td>\n",
       "      <td>NaN</td>\n",
       "      <td>0.23939</td>\n",
       "      <td>0.2019</td>\n",
       "      <td>0.1919</td>\n",
       "      <td>...</td>\n",
       "      <td>-69.21</td>\n",
       "      <td>0.0</td>\n",
       "      <td>0.0</td>\n",
       "      <td>0.0</td>\n",
       "      <td>0.0</td>\n",
       "      <td>1.0</td>\n",
       "      <td>0</td>\n",
       "      <td>0</td>\n",
       "      <td>0.0</td>\n",
       "      <td>1</td>\n",
       "    </tr>\n",
       "    <tr>\n",
       "      <th>8</th>\n",
       "      <td>0F043596202561788EA13D5</td>\n",
       "      <td>1023355</td>\n",
       "      <td>2013-12-02 10:43:39.117000000</td>\n",
       "      <td>NaN</td>\n",
       "      <td>36</td>\n",
       "      <td>Current</td>\n",
       "      <td>NaN</td>\n",
       "      <td>0.07620</td>\n",
       "      <td>0.0629</td>\n",
       "      <td>0.0529</td>\n",
       "      <td>...</td>\n",
       "      <td>-16.77</td>\n",
       "      <td>0.0</td>\n",
       "      <td>0.0</td>\n",
       "      <td>0.0</td>\n",
       "      <td>0.0</td>\n",
       "      <td>1.0</td>\n",
       "      <td>0</td>\n",
       "      <td>0</td>\n",
       "      <td>0.0</td>\n",
       "      <td>1</td>\n",
       "    </tr>\n",
       "    <tr>\n",
       "      <th>9</th>\n",
       "      <td>0F043596202561788EA13D5</td>\n",
       "      <td>1023355</td>\n",
       "      <td>2013-12-02 10:43:39.117000000</td>\n",
       "      <td>NaN</td>\n",
       "      <td>36</td>\n",
       "      <td>Current</td>\n",
       "      <td>NaN</td>\n",
       "      <td>0.07620</td>\n",
       "      <td>0.0629</td>\n",
       "      <td>0.0529</td>\n",
       "      <td>...</td>\n",
       "      <td>-16.77</td>\n",
       "      <td>0.0</td>\n",
       "      <td>0.0</td>\n",
       "      <td>0.0</td>\n",
       "      <td>0.0</td>\n",
       "      <td>1.0</td>\n",
       "      <td>0</td>\n",
       "      <td>0</td>\n",
       "      <td>0.0</td>\n",
       "      <td>1</td>\n",
       "    </tr>\n",
       "  </tbody>\n",
       "</table>\n",
       "<p>10 rows × 81 columns</p>\n",
       "</div>"
      ],
      "text/plain": [
       "                ListingKey  ListingNumber            ListingCreationDate  \\\n",
       "0  1021339766868145413AB3B         193129  2007-08-26 19:09:29.263000000   \n",
       "1  10273602499503308B223C1        1209647  2014-02-27 08:28:07.900000000   \n",
       "2  0EE9337825851032864889A          81716  2007-01-05 15:00:47.090000000   \n",
       "3  0EF5356002482715299901A         658116  2012-10-22 11:02:35.010000000   \n",
       "4  0F023589499656230C5E3E2         909464  2013-09-14 18:38:39.097000000   \n",
       "5  0F05359734824199381F61D        1074836  2013-12-14 08:26:37.093000000   \n",
       "6  0F0A3576754255009D63151         750899  2013-04-12 09:52:56.147000000   \n",
       "7  0F1035772717087366F9EA7         768193  2013-05-05 06:49:27.493000000   \n",
       "8  0F043596202561788EA13D5        1023355  2013-12-02 10:43:39.117000000   \n",
       "9  0F043596202561788EA13D5        1023355  2013-12-02 10:43:39.117000000   \n",
       "\n",
       "  CreditGrade  Term LoanStatus           ClosedDate  BorrowerAPR  \\\n",
       "0           C    36  Completed  2009-08-14 00:00:00      0.16516   \n",
       "1         NaN    36    Current                  NaN      0.12016   \n",
       "2          HR    36  Completed  2009-12-17 00:00:00      0.28269   \n",
       "3         NaN    36    Current                  NaN      0.12528   \n",
       "4         NaN    36    Current                  NaN      0.24614   \n",
       "5         NaN    60    Current                  NaN      0.15425   \n",
       "6         NaN    36    Current                  NaN      0.31032   \n",
       "7         NaN    36    Current                  NaN      0.23939   \n",
       "8         NaN    36    Current                  NaN      0.07620   \n",
       "9         NaN    36    Current                  NaN      0.07620   \n",
       "\n",
       "   BorrowerRate  LenderYield  ...  LP_ServiceFees  LP_CollectionFees  \\\n",
       "0        0.1580       0.1380  ...         -133.18                0.0   \n",
       "1        0.0920       0.0820  ...            0.00                0.0   \n",
       "2        0.2750       0.2400  ...          -24.20                0.0   \n",
       "3        0.0974       0.0874  ...         -108.01                0.0   \n",
       "4        0.2085       0.1985  ...          -60.27                0.0   \n",
       "5        0.1314       0.1214  ...          -25.33                0.0   \n",
       "6        0.2712       0.2612  ...          -22.95                0.0   \n",
       "7        0.2019       0.1919  ...          -69.21                0.0   \n",
       "8        0.0629       0.0529  ...          -16.77                0.0   \n",
       "9        0.0629       0.0529  ...          -16.77                0.0   \n",
       "\n",
       "   LP_GrossPrincipalLoss  LP_NetPrincipalLoss LP_NonPrincipalRecoverypayments  \\\n",
       "0                    0.0                  0.0                             0.0   \n",
       "1                    0.0                  0.0                             0.0   \n",
       "2                    0.0                  0.0                             0.0   \n",
       "3                    0.0                  0.0                             0.0   \n",
       "4                    0.0                  0.0                             0.0   \n",
       "5                    0.0                  0.0                             0.0   \n",
       "6                    0.0                  0.0                             0.0   \n",
       "7                    0.0                  0.0                             0.0   \n",
       "8                    0.0                  0.0                             0.0   \n",
       "9                    0.0                  0.0                             0.0   \n",
       "\n",
       "   PercentFunded  Recommendations InvestmentFromFriendsCount  \\\n",
       "0            1.0                0                          0   \n",
       "1            1.0                0                          0   \n",
       "2            1.0                0                          0   \n",
       "3            1.0                0                          0   \n",
       "4            1.0                0                          0   \n",
       "5            1.0                0                          0   \n",
       "6            1.0                0                          0   \n",
       "7            1.0                0                          0   \n",
       "8            1.0                0                          0   \n",
       "9            1.0                0                          0   \n",
       "\n",
       "  InvestmentFromFriendsAmount Investors  \n",
       "0                         0.0       258  \n",
       "1                         0.0         1  \n",
       "2                         0.0        41  \n",
       "3                         0.0       158  \n",
       "4                         0.0        20  \n",
       "5                         0.0         1  \n",
       "6                         0.0         1  \n",
       "7                         0.0         1  \n",
       "8                         0.0         1  \n",
       "9                         0.0         1  \n",
       "\n",
       "[10 rows x 81 columns]"
      ]
     },
     "execution_count": 4,
     "metadata": {},
     "output_type": "execute_result"
    }
   ],
   "source": [
    "# first few rows\n",
    "loans.head(10)"
   ]
  },
  {
   "cell_type": "code",
   "execution_count": 5,
   "id": "20607815",
   "metadata": {
    "slideshow": {
     "slide_type": "skip"
    }
   },
   "outputs": [
    {
     "name": "stdout",
     "output_type": "stream",
     "text": [
      "<class 'pandas.core.frame.DataFrame'>\n",
      "RangeIndex: 113937 entries, 0 to 113936\n",
      "Data columns (total 81 columns):\n",
      " #   Column                               Non-Null Count   Dtype  \n",
      "---  ------                               --------------   -----  \n",
      " 0   ListingKey                           113937 non-null  object \n",
      " 1   ListingNumber                        113937 non-null  int64  \n",
      " 2   ListingCreationDate                  113937 non-null  object \n",
      " 3   CreditGrade                          28953 non-null   object \n",
      " 4   Term                                 113937 non-null  int64  \n",
      " 5   LoanStatus                           113937 non-null  object \n",
      " 6   ClosedDate                           55089 non-null   object \n",
      " 7   BorrowerAPR                          113912 non-null  float64\n",
      " 8   BorrowerRate                         113937 non-null  float64\n",
      " 9   LenderYield                          113937 non-null  float64\n",
      " 10  EstimatedEffectiveYield              84853 non-null   float64\n",
      " 11  EstimatedLoss                        84853 non-null   float64\n",
      " 12  EstimatedReturn                      84853 non-null   float64\n",
      " 13  ProsperRating (numeric)              84853 non-null   float64\n",
      " 14  ProsperRating (Alpha)                84853 non-null   object \n",
      " 15  ProsperScore                         84853 non-null   float64\n",
      " 16  ListingCategory (numeric)            113937 non-null  int64  \n",
      " 17  BorrowerState                        108422 non-null  object \n",
      " 18  Occupation                           110349 non-null  object \n",
      " 19  EmploymentStatus                     111682 non-null  object \n",
      " 20  EmploymentStatusDuration             106312 non-null  float64\n",
      " 21  IsBorrowerHomeowner                  113937 non-null  bool   \n",
      " 22  CurrentlyInGroup                     113937 non-null  bool   \n",
      " 23  GroupKey                             13341 non-null   object \n",
      " 24  DateCreditPulled                     113937 non-null  object \n",
      " 25  CreditScoreRangeLower                113346 non-null  float64\n",
      " 26  CreditScoreRangeUpper                113346 non-null  float64\n",
      " 27  FirstRecordedCreditLine              113240 non-null  object \n",
      " 28  CurrentCreditLines                   106333 non-null  float64\n",
      " 29  OpenCreditLines                      106333 non-null  float64\n",
      " 30  TotalCreditLinespast7years           113240 non-null  float64\n",
      " 31  OpenRevolvingAccounts                113937 non-null  int64  \n",
      " 32  OpenRevolvingMonthlyPayment          113937 non-null  float64\n",
      " 33  InquiriesLast6Months                 113240 non-null  float64\n",
      " 34  TotalInquiries                       112778 non-null  float64\n",
      " 35  CurrentDelinquencies                 113240 non-null  float64\n",
      " 36  AmountDelinquent                     106315 non-null  float64\n",
      " 37  DelinquenciesLast7Years              112947 non-null  float64\n",
      " 38  PublicRecordsLast10Years             113240 non-null  float64\n",
      " 39  PublicRecordsLast12Months            106333 non-null  float64\n",
      " 40  RevolvingCreditBalance               106333 non-null  float64\n",
      " 41  BankcardUtilization                  106333 non-null  float64\n",
      " 42  AvailableBankcardCredit              106393 non-null  float64\n",
      " 43  TotalTrades                          106393 non-null  float64\n",
      " 44  TradesNeverDelinquent (percentage)   106393 non-null  float64\n",
      " 45  TradesOpenedLast6Months              106393 non-null  float64\n",
      " 46  DebtToIncomeRatio                    105383 non-null  float64\n",
      " 47  IncomeRange                          113937 non-null  object \n",
      " 48  IncomeVerifiable                     113937 non-null  bool   \n",
      " 49  StatedMonthlyIncome                  113937 non-null  float64\n",
      " 50  LoanKey                              113937 non-null  object \n",
      " 51  TotalProsperLoans                    22085 non-null   float64\n",
      " 52  TotalProsperPaymentsBilled           22085 non-null   float64\n",
      " 53  OnTimeProsperPayments                22085 non-null   float64\n",
      " 54  ProsperPaymentsLessThanOneMonthLate  22085 non-null   float64\n",
      " 55  ProsperPaymentsOneMonthPlusLate      22085 non-null   float64\n",
      " 56  ProsperPrincipalBorrowed             22085 non-null   float64\n",
      " 57  ProsperPrincipalOutstanding          22085 non-null   float64\n",
      " 58  ScorexChangeAtTimeOfListing          18928 non-null   float64\n",
      " 59  LoanCurrentDaysDelinquent            113937 non-null  int64  \n",
      " 60  LoanFirstDefaultedCycleNumber        16952 non-null   float64\n",
      " 61  LoanMonthsSinceOrigination           113937 non-null  int64  \n",
      " 62  LoanNumber                           113937 non-null  int64  \n",
      " 63  LoanOriginalAmount                   113937 non-null  int64  \n",
      " 64  LoanOriginationDate                  113937 non-null  object \n",
      " 65  LoanOriginationQuarter               113937 non-null  object \n",
      " 66  MemberKey                            113937 non-null  object \n",
      " 67  MonthlyLoanPayment                   113937 non-null  float64\n",
      " 68  LP_CustomerPayments                  113937 non-null  float64\n",
      " 69  LP_CustomerPrincipalPayments         113937 non-null  float64\n",
      " 70  LP_InterestandFees                   113937 non-null  float64\n",
      " 71  LP_ServiceFees                       113937 non-null  float64\n",
      " 72  LP_CollectionFees                    113937 non-null  float64\n",
      " 73  LP_GrossPrincipalLoss                113937 non-null  float64\n",
      " 74  LP_NetPrincipalLoss                  113937 non-null  float64\n",
      " 75  LP_NonPrincipalRecoverypayments      113937 non-null  float64\n",
      " 76  PercentFunded                        113937 non-null  float64\n",
      " 77  Recommendations                      113937 non-null  int64  \n",
      " 78  InvestmentFromFriendsCount           113937 non-null  int64  \n",
      " 79  InvestmentFromFriendsAmount          113937 non-null  float64\n",
      " 80  Investors                            113937 non-null  int64  \n",
      "dtypes: bool(3), float64(50), int64(11), object(17)\n",
      "memory usage: 68.1+ MB\n"
     ]
    }
   ],
   "source": [
    "# data information\n",
    "loans.info()"
   ]
  },
  {
   "cell_type": "code",
   "execution_count": 6,
   "id": "b05ae807",
   "metadata": {
    "slideshow": {
     "slide_type": "skip"
    }
   },
   "outputs": [
    {
     "data": {
      "text/html": [
       "<div>\n",
       "<style scoped>\n",
       "    .dataframe tbody tr th:only-of-type {\n",
       "        vertical-align: middle;\n",
       "    }\n",
       "\n",
       "    .dataframe tbody tr th {\n",
       "        vertical-align: top;\n",
       "    }\n",
       "\n",
       "    .dataframe thead th {\n",
       "        text-align: right;\n",
       "    }\n",
       "</style>\n",
       "<table border=\"1\" class=\"dataframe\">\n",
       "  <thead>\n",
       "    <tr style=\"text-align: right;\">\n",
       "      <th></th>\n",
       "      <th>ListingNumber</th>\n",
       "      <th>Term</th>\n",
       "      <th>BorrowerAPR</th>\n",
       "      <th>BorrowerRate</th>\n",
       "      <th>LenderYield</th>\n",
       "      <th>EstimatedEffectiveYield</th>\n",
       "      <th>EstimatedLoss</th>\n",
       "      <th>EstimatedReturn</th>\n",
       "      <th>ProsperRating (numeric)</th>\n",
       "      <th>ProsperScore</th>\n",
       "      <th>...</th>\n",
       "      <th>LP_ServiceFees</th>\n",
       "      <th>LP_CollectionFees</th>\n",
       "      <th>LP_GrossPrincipalLoss</th>\n",
       "      <th>LP_NetPrincipalLoss</th>\n",
       "      <th>LP_NonPrincipalRecoverypayments</th>\n",
       "      <th>PercentFunded</th>\n",
       "      <th>Recommendations</th>\n",
       "      <th>InvestmentFromFriendsCount</th>\n",
       "      <th>InvestmentFromFriendsAmount</th>\n",
       "      <th>Investors</th>\n",
       "    </tr>\n",
       "  </thead>\n",
       "  <tbody>\n",
       "    <tr>\n",
       "      <th>count</th>\n",
       "      <td>1.139370e+05</td>\n",
       "      <td>113937.000000</td>\n",
       "      <td>113912.000000</td>\n",
       "      <td>113937.000000</td>\n",
       "      <td>113937.000000</td>\n",
       "      <td>84853.000000</td>\n",
       "      <td>84853.000000</td>\n",
       "      <td>84853.000000</td>\n",
       "      <td>84853.000000</td>\n",
       "      <td>84853.000000</td>\n",
       "      <td>...</td>\n",
       "      <td>113937.000000</td>\n",
       "      <td>113937.000000</td>\n",
       "      <td>113937.000000</td>\n",
       "      <td>113937.000000</td>\n",
       "      <td>113937.000000</td>\n",
       "      <td>113937.000000</td>\n",
       "      <td>113937.000000</td>\n",
       "      <td>113937.000000</td>\n",
       "      <td>113937.000000</td>\n",
       "      <td>113937.000000</td>\n",
       "    </tr>\n",
       "    <tr>\n",
       "      <th>mean</th>\n",
       "      <td>6.278857e+05</td>\n",
       "      <td>40.830248</td>\n",
       "      <td>0.218828</td>\n",
       "      <td>0.192764</td>\n",
       "      <td>0.182701</td>\n",
       "      <td>0.168661</td>\n",
       "      <td>0.080306</td>\n",
       "      <td>0.096068</td>\n",
       "      <td>4.072243</td>\n",
       "      <td>5.950067</td>\n",
       "      <td>...</td>\n",
       "      <td>-54.725641</td>\n",
       "      <td>-14.242698</td>\n",
       "      <td>700.446342</td>\n",
       "      <td>681.420499</td>\n",
       "      <td>25.142686</td>\n",
       "      <td>0.998584</td>\n",
       "      <td>0.048027</td>\n",
       "      <td>0.023460</td>\n",
       "      <td>16.550751</td>\n",
       "      <td>80.475228</td>\n",
       "    </tr>\n",
       "    <tr>\n",
       "      <th>std</th>\n",
       "      <td>3.280762e+05</td>\n",
       "      <td>10.436212</td>\n",
       "      <td>0.080364</td>\n",
       "      <td>0.074818</td>\n",
       "      <td>0.074516</td>\n",
       "      <td>0.068467</td>\n",
       "      <td>0.046764</td>\n",
       "      <td>0.030403</td>\n",
       "      <td>1.673227</td>\n",
       "      <td>2.376501</td>\n",
       "      <td>...</td>\n",
       "      <td>60.675425</td>\n",
       "      <td>109.232758</td>\n",
       "      <td>2388.513831</td>\n",
       "      <td>2357.167068</td>\n",
       "      <td>275.657937</td>\n",
       "      <td>0.017919</td>\n",
       "      <td>0.332353</td>\n",
       "      <td>0.232412</td>\n",
       "      <td>294.545422</td>\n",
       "      <td>103.239020</td>\n",
       "    </tr>\n",
       "    <tr>\n",
       "      <th>min</th>\n",
       "      <td>4.000000e+00</td>\n",
       "      <td>12.000000</td>\n",
       "      <td>0.006530</td>\n",
       "      <td>0.000000</td>\n",
       "      <td>-0.010000</td>\n",
       "      <td>-0.182700</td>\n",
       "      <td>0.004900</td>\n",
       "      <td>-0.182700</td>\n",
       "      <td>1.000000</td>\n",
       "      <td>1.000000</td>\n",
       "      <td>...</td>\n",
       "      <td>-664.870000</td>\n",
       "      <td>-9274.750000</td>\n",
       "      <td>-94.200000</td>\n",
       "      <td>-954.550000</td>\n",
       "      <td>0.000000</td>\n",
       "      <td>0.700000</td>\n",
       "      <td>0.000000</td>\n",
       "      <td>0.000000</td>\n",
       "      <td>0.000000</td>\n",
       "      <td>1.000000</td>\n",
       "    </tr>\n",
       "    <tr>\n",
       "      <th>25%</th>\n",
       "      <td>4.009190e+05</td>\n",
       "      <td>36.000000</td>\n",
       "      <td>0.156290</td>\n",
       "      <td>0.134000</td>\n",
       "      <td>0.124200</td>\n",
       "      <td>0.115670</td>\n",
       "      <td>0.042400</td>\n",
       "      <td>0.074080</td>\n",
       "      <td>3.000000</td>\n",
       "      <td>4.000000</td>\n",
       "      <td>...</td>\n",
       "      <td>-73.180000</td>\n",
       "      <td>0.000000</td>\n",
       "      <td>0.000000</td>\n",
       "      <td>0.000000</td>\n",
       "      <td>0.000000</td>\n",
       "      <td>1.000000</td>\n",
       "      <td>0.000000</td>\n",
       "      <td>0.000000</td>\n",
       "      <td>0.000000</td>\n",
       "      <td>2.000000</td>\n",
       "    </tr>\n",
       "    <tr>\n",
       "      <th>50%</th>\n",
       "      <td>6.005540e+05</td>\n",
       "      <td>36.000000</td>\n",
       "      <td>0.209760</td>\n",
       "      <td>0.184000</td>\n",
       "      <td>0.173000</td>\n",
       "      <td>0.161500</td>\n",
       "      <td>0.072400</td>\n",
       "      <td>0.091700</td>\n",
       "      <td>4.000000</td>\n",
       "      <td>6.000000</td>\n",
       "      <td>...</td>\n",
       "      <td>-34.440000</td>\n",
       "      <td>0.000000</td>\n",
       "      <td>0.000000</td>\n",
       "      <td>0.000000</td>\n",
       "      <td>0.000000</td>\n",
       "      <td>1.000000</td>\n",
       "      <td>0.000000</td>\n",
       "      <td>0.000000</td>\n",
       "      <td>0.000000</td>\n",
       "      <td>44.000000</td>\n",
       "    </tr>\n",
       "    <tr>\n",
       "      <th>75%</th>\n",
       "      <td>8.926340e+05</td>\n",
       "      <td>36.000000</td>\n",
       "      <td>0.283810</td>\n",
       "      <td>0.250000</td>\n",
       "      <td>0.240000</td>\n",
       "      <td>0.224300</td>\n",
       "      <td>0.112000</td>\n",
       "      <td>0.116600</td>\n",
       "      <td>5.000000</td>\n",
       "      <td>8.000000</td>\n",
       "      <td>...</td>\n",
       "      <td>-13.920000</td>\n",
       "      <td>0.000000</td>\n",
       "      <td>0.000000</td>\n",
       "      <td>0.000000</td>\n",
       "      <td>0.000000</td>\n",
       "      <td>1.000000</td>\n",
       "      <td>0.000000</td>\n",
       "      <td>0.000000</td>\n",
       "      <td>0.000000</td>\n",
       "      <td>115.000000</td>\n",
       "    </tr>\n",
       "    <tr>\n",
       "      <th>max</th>\n",
       "      <td>1.255725e+06</td>\n",
       "      <td>60.000000</td>\n",
       "      <td>0.512290</td>\n",
       "      <td>0.497500</td>\n",
       "      <td>0.492500</td>\n",
       "      <td>0.319900</td>\n",
       "      <td>0.366000</td>\n",
       "      <td>0.283700</td>\n",
       "      <td>7.000000</td>\n",
       "      <td>11.000000</td>\n",
       "      <td>...</td>\n",
       "      <td>32.060000</td>\n",
       "      <td>0.000000</td>\n",
       "      <td>25000.000000</td>\n",
       "      <td>25000.000000</td>\n",
       "      <td>21117.900000</td>\n",
       "      <td>1.012500</td>\n",
       "      <td>39.000000</td>\n",
       "      <td>33.000000</td>\n",
       "      <td>25000.000000</td>\n",
       "      <td>1189.000000</td>\n",
       "    </tr>\n",
       "  </tbody>\n",
       "</table>\n",
       "<p>8 rows × 61 columns</p>\n",
       "</div>"
      ],
      "text/plain": [
       "       ListingNumber           Term    BorrowerAPR   BorrowerRate  \\\n",
       "count   1.139370e+05  113937.000000  113912.000000  113937.000000   \n",
       "mean    6.278857e+05      40.830248       0.218828       0.192764   \n",
       "std     3.280762e+05      10.436212       0.080364       0.074818   \n",
       "min     4.000000e+00      12.000000       0.006530       0.000000   \n",
       "25%     4.009190e+05      36.000000       0.156290       0.134000   \n",
       "50%     6.005540e+05      36.000000       0.209760       0.184000   \n",
       "75%     8.926340e+05      36.000000       0.283810       0.250000   \n",
       "max     1.255725e+06      60.000000       0.512290       0.497500   \n",
       "\n",
       "         LenderYield  EstimatedEffectiveYield  EstimatedLoss  EstimatedReturn  \\\n",
       "count  113937.000000             84853.000000   84853.000000     84853.000000   \n",
       "mean        0.182701                 0.168661       0.080306         0.096068   \n",
       "std         0.074516                 0.068467       0.046764         0.030403   \n",
       "min        -0.010000                -0.182700       0.004900        -0.182700   \n",
       "25%         0.124200                 0.115670       0.042400         0.074080   \n",
       "50%         0.173000                 0.161500       0.072400         0.091700   \n",
       "75%         0.240000                 0.224300       0.112000         0.116600   \n",
       "max         0.492500                 0.319900       0.366000         0.283700   \n",
       "\n",
       "       ProsperRating (numeric)  ProsperScore  ...  LP_ServiceFees  \\\n",
       "count             84853.000000  84853.000000  ...   113937.000000   \n",
       "mean                  4.072243      5.950067  ...      -54.725641   \n",
       "std                   1.673227      2.376501  ...       60.675425   \n",
       "min                   1.000000      1.000000  ...     -664.870000   \n",
       "25%                   3.000000      4.000000  ...      -73.180000   \n",
       "50%                   4.000000      6.000000  ...      -34.440000   \n",
       "75%                   5.000000      8.000000  ...      -13.920000   \n",
       "max                   7.000000     11.000000  ...       32.060000   \n",
       "\n",
       "       LP_CollectionFees  LP_GrossPrincipalLoss  LP_NetPrincipalLoss  \\\n",
       "count      113937.000000          113937.000000        113937.000000   \n",
       "mean          -14.242698             700.446342           681.420499   \n",
       "std           109.232758            2388.513831          2357.167068   \n",
       "min         -9274.750000             -94.200000          -954.550000   \n",
       "25%             0.000000               0.000000             0.000000   \n",
       "50%             0.000000               0.000000             0.000000   \n",
       "75%             0.000000               0.000000             0.000000   \n",
       "max             0.000000           25000.000000         25000.000000   \n",
       "\n",
       "       LP_NonPrincipalRecoverypayments  PercentFunded  Recommendations  \\\n",
       "count                    113937.000000  113937.000000    113937.000000   \n",
       "mean                         25.142686       0.998584         0.048027   \n",
       "std                         275.657937       0.017919         0.332353   \n",
       "min                           0.000000       0.700000         0.000000   \n",
       "25%                           0.000000       1.000000         0.000000   \n",
       "50%                           0.000000       1.000000         0.000000   \n",
       "75%                           0.000000       1.000000         0.000000   \n",
       "max                       21117.900000       1.012500        39.000000   \n",
       "\n",
       "       InvestmentFromFriendsCount  InvestmentFromFriendsAmount      Investors  \n",
       "count               113937.000000                113937.000000  113937.000000  \n",
       "mean                     0.023460                    16.550751      80.475228  \n",
       "std                      0.232412                   294.545422     103.239020  \n",
       "min                      0.000000                     0.000000       1.000000  \n",
       "25%                      0.000000                     0.000000       2.000000  \n",
       "50%                      0.000000                     0.000000      44.000000  \n",
       "75%                      0.000000                     0.000000     115.000000  \n",
       "max                     33.000000                 25000.000000    1189.000000  \n",
       "\n",
       "[8 rows x 61 columns]"
      ]
     },
     "execution_count": 6,
     "metadata": {},
     "output_type": "execute_result"
    }
   ],
   "source": [
    "# loans statistics\n",
    "loans.describe()"
   ]
  },
  {
   "cell_type": "markdown",
   "id": "d42fe44c",
   "metadata": {
    "slideshow": {
     "slide_type": "skip"
    }
   },
   "source": [
    "Understanding the data. Description of columns in the loans data.\n",
    "\n",
    "1. ListingKey - Unique key for each listing, same value as the 'key' used in the listing object in the API. eg 1021339766868145413AB3B\n",
    "\n",
    "2. ListingNumber - The number that uniquely identifies the listing to the public as displayed on the website. eg 193129\n",
    "\n",
    "3. ListingCreationDate - The date the listing was created. eg 2007-08-26 19:09:29.263000000\n",
    "\n",
    "4. CreditGrade - The Credit rating that was assigned at the time the listing went live. Applicable for listings pre-2009 period and will only be populated for those listings.\n",
    "\n",
    "5. Term - The length of the loan expressed in months.\n",
    "\n",
    "6. LoanStatus - The current status of the loan:\n",
    "- Cancelled,  \n",
    "- Chargedoff,\n",
    "- Completed, \n",
    "- Current, \n",
    "- Defaulted, \n",
    "- FinalPaymentInProgress, \n",
    "- PastDue. The PastDue status will be accompanied by a delinquency bucket.\n",
    "\n",
    "7. ClosedDate - Closed date is applicable for \n",
    "- Cancelled, \n",
    "- Completed, \n",
    "- Chargedoff and \n",
    "- Defaulted loan statuses. \n",
    "\n",
    "8. BorrowerAPR - The Borrower's Annual Percentage Rate (APR) for the loan.\n",
    "\n",
    "9. BorrowerRate - The Borrower's interest rate for this loan. \n",
    "\n",
    "10. LenderYield\t- The Lender yield on the loan. Lender yield is equal to the interest rate on the loan less the servicing fee.\n",
    "\n",
    "11. EstimatedEffectiveYield\t- Effective yield is equal to the borrower interest rate \n",
    "- (i) minus the servicing fee rate, \n",
    "- (ii) minus estimated uncollected interest on charge-offs, \n",
    "- (iii) plus estimated collected late fees.  Applicable for loans originated after July 2009.\n",
    "\n",
    "12. EstimatedLoss - Estimated loss is the estimated principal loss on charge-offs. Applicable for loans originated after July 2009.\n",
    "\n",
    "13. EstimatedReturn - The estimated return assigned to the listing at the time it was created. Estimated return is the difference between the Estimated Effective Yield and the Estimated Loss Rate. Applicable for loans originated after July 2009.\n",
    "\n",
    "14. ProsperRating (numeric)\tThe  Prosper Rating assigned at the time the listing was created: 0 - N/A, 1 - HR, 2 - E, 3 - D, 4 - C, 5 - B, 6 - A, 7 - AA.  Applicable for loans originated after July 2009.\n",
    "\n",
    "15. ProsperRating (Alpha) - The Prosper Rating assigned at the time the listing was created between AA - HR.  Applicable for loans originated after July 2009.\n",
    "\n",
    "16. ProsperScore - A custom risk score built using historical Prosper data. The score ranges from 1-10, with 10 being the best, or lowest risk score.  Applicable for loans originated after July 2009.\n",
    "\n",
    "17. ListingCategory - The category of the listing that the borrower selected when posting their listing: \n",
    "- 0 - Not Available, \n",
    "- 1 - Debt Consolidation, \n",
    "- 2 - Home Improvement,\n",
    "- 3 - Business, \n",
    "- 4 - Personal Loan, \n",
    "- 5 - Student Use, \n",
    "- 6 - Auto, \n",
    "- 7- Other, \n",
    "- 8 - Baby&Adoption, \n",
    "- 9 - Boat, \n",
    "- 10 - Cosmetic Procedure, \n",
    "- 11 - Engagement Ring, \n",
    "- 12 - Green Loans, \n",
    "- 13 - Household Expenses, \n",
    "- 14 - Large Purchases, \n",
    "- 15 - Medical/Dental, \n",
    "- 16 - Motorcycle, \n",
    "- 17 - RV, \n",
    "- 18 - Taxes, \n",
    "- 19 - Vacation, \n",
    "- 20 - Wedding Loans\n",
    "\n",
    "18. BorrowerState - The two letter abbreviation of the state of the address of the borrower at the time the Listing was created.\n",
    "\n",
    "19. Occupation - The Occupation selected by the Borrower at the time they created the listing.\n",
    "\n",
    "20. EmploymentStatus - The employment status of the borrower at the time they posted the listing.\n",
    "\n",
    "21. EmploymentStatusDuration - The length in months of the employment status at the time the listing was created.\n",
    "\n",
    "22. IsBorrowerHomeowner - A Borrower will be classified as a homowner if they have a mortgage on their credit profile or provide documentation confirming they are a homeowner.\n",
    "\n",
    "23. CurrentlyInGroup - Specifies whether or not the Borrower was in a group at the time the listing was created.\n",
    "\n",
    "24. GroupKey - The Key of the group in which the Borrower is a member of. Value will be null if the borrower does not have a group affiliation.\n",
    "\n",
    "25. DateCreditPulled - The date the credit profile was pulled. \n",
    "\n",
    "26. CreditScoreRangeLower - The lower value representing the range of the borrower's credit score as provided by a consumer credit rating agency.\n",
    "\n",
    "27. CreditScoreRangeUpper - The upper value representing the range of the borrower's credit score as provided by a consumer credit rating agency. \n",
    "\n",
    "28. FirstRecordedCreditLine - The date the first credit line was opened.\n",
    "\n",
    "29. CurrentCreditLines - Number of current credit lines at the time the credit profile was pulled.\n",
    "\n",
    "30. OpenCreditLines - Number of open credit lines at the time the credit profile was pulled.\n",
    "\n",
    "31. TotalCreditLinespast7years - Number of credit lines in the past seven years at the time the credit profile was pulled.\n",
    "\n",
    "32. OpenRevolvingAccounts - Number of open revolving accounts at the time the credit profile was pulled.\n",
    "\n",
    "33. OpenRevolvingMonthlyPayment\t- Monthly payment on revolving accounts at the time the credit profile was pulled.\n",
    "\n",
    "34. InquiriesLast6Months - Number of inquiries in the past six months at the time the credit profile was pulled.\n",
    "\n",
    "35. TotalInquiries - Total number of inquiries at the time the credit profile was pulled.\n",
    "\n",
    "36. CurrentDelinquencies - Number of accounts delinquent at the time the credit profile was pulled.\n",
    "\n",
    "37. AmountDelinquent - Dollars delinquent at the time the credit profile was pulled.\n",
    "\n",
    "38. DelinquenciesLast7Years\t- Number of delinquencies in the past 7 years at the time the credit profile was pulled.\n",
    "\n",
    "39. PublicRecordsLast10Years - Number of public records in the past 10 years at the time the credit profile was pulled.\n",
    "\n",
    "40. PublicRecordsLast12Months\t- Number of public records in the past 12 months at the time the credit profile was pulled.\n",
    "\n",
    "41. RevolvingCreditBalance - Dollars of revolving credit at the time the credit profile was pulled.\n",
    "\n",
    "42. BankcardUtilization\t- The percentage of available revolving credit that is utilized at the time the credit profile was pulled.\n",
    "\n",
    "43. AvailableBankcardCredit\t- The total available credit via bank card at the time the credit profile was pulled.\n",
    "\n",
    "44. TotalTrades\t- Number of trade lines ever opened at the time the credit profile was pulled.\n",
    "\n",
    "45. TradesNeverDelinquent - Number of trades that have never been delinquent at the time the credit profile was pulled.\n",
    "\n",
    "46. TradesOpenedLast6Months - Number of trades opened in the last 6 months at the time the credit profile was pulled.\n",
    "\n",
    "47. DebtToIncomeRatio - The debt to income ratio of the borrower at the time the credit profile was pulled. This value is Null if the debt to income ratio is not available. This value is capped at 10.01 (any debt to income ratio larger than 1000% will be returned as 1001%).\n",
    "\n",
    "48. IncomeRange\t- The income range of the borrower at the time the listing was created.\n",
    "\n",
    "49. - IncomeVerifiable\tThe borrower indicated they have the required documentation to support their income.\n",
    "\n",
    "50. - StatedMonthlyIncome\tThe monthly income the borrower stated at the time the listing was created.\n",
    "\n",
    "51. LoanKey - Unique key for each loan. This is the same key that is used in the API. \n",
    "\n",
    "52. TotalProsperLoans - Number of Prosper loans the borrower at the time they created this listing. This value will be null if the borrower had no prior loans. \n",
    "\n",
    "53. TotalProsperPaymentsBilled - Number of on time payments the borrower made on Prosper loans at the time they created this listing. This value will be null if the borrower had no prior loans.\n",
    "\n",
    "54. OnTimeProsperPayments - Number of on time payments the borrower had made on Prosper loans at the time they created this listing. This value will be null if the borrower has no prior loans.\n",
    "\n",
    "55. ProsperPaymentsLessThanOneMonthLate - Number of payments the borrower made on Prosper loans that were less than one month late at the time they created this listing. This value will be null if the borrower had no prior loans. \n",
    "\n",
    "56. ProsperPaymentsOneMonthPlusLate\t- Number of payments the borrower made on Prosper loans that were greater than one month late at the time they created this listing. This value will be null if the borrower had no prior loans.\n",
    "\n",
    "57. ProsperPrincipalBorrowed - Total principal borrowed on Prosper loans at the time the listing was created. This value will be null if the borrower had no prior loans.\n",
    "\n",
    "58. ProsperPrincipalOutstanding\t- Principal outstanding on Prosper loans at the time the listing was created. This value will be null if the borrower had no prior loans.\n",
    "\n",
    "59. ScorexChangeAtTimeOfListing\t- Borrower's credit score change at the time the credit profile was pulled. This will be the change relative to the borrower's last Prosper loan. This value will be null if the borrower had no prior loans.\n",
    "\n",
    "60. LoanCurrentDaysDelinquent - The number of days delinquent. \n",
    "\n",
    "61. LoanFirstDefaultedCycleNumber - The cycle the loan was charged off. If the loan has not charged off the value will be null. \n",
    "\n",
    "62. LoanMonthsSinceOrigination - Number of months since the loan originated.\n",
    "\n",
    "63. LoanNumber - Unique numeric value associated with the loan.\n",
    "\n",
    "64. LoanOriginalAmount- The origination amount of the loan.\n",
    "\n",
    "65. LoanOriginationDate - The date the loan was originated.\n",
    "\n",
    "66. LoanOriginationQuarter - The quarter in which the loan was originated.\n",
    "\n",
    "67. MemberKey - The unique key that is associated with the borrower. This is the same identifier that is used in the API member object. \n",
    "\n",
    "68. MonthlyLoanPayment - The scheduled monthly loan payment.\n",
    "\n",
    "69. LP_CustomerPayments - Pre charge-off cumulative gross payments made by the borrower on the loan. If the loan has charged off, this value will exclude any recoveries.\n",
    "\n",
    "70. LP_CustomerPrincipalPayments - Pre charge-off cumulative principal payments made by the borrower on the loan. If the loan has charged off, this value will exclude any recoveries.\n",
    "\n",
    "71. LP_InterestandFees - Pre charge-off cumulative interest and fees paid by the borrower. If the loan has charged off, this value will exclude any recoveries.\n",
    "\n",
    "72. LP_ServiceFees - Cumulative service fees paid by the investors who have invested in the loan. \n",
    "\n",
    "73. LP_CollectionFees - Cumulative collection fees paid by the investors who have invested in the loan.\n",
    "\n",
    "74. LP_GrossPrincipalLoss - The gross charged off amount of the loan.\n",
    "\n",
    "75. LP_NetPrincipalLoss - The principal that remains uncollected after any recoveries.\n",
    "\n",
    "76. LP_NonPrincipalRecoverypayments\t- The interest and fee component of any recovery payments. The current payment policy applies payments in the following order: Fees, interest, principal.\n",
    "\n",
    "77. PercentFunded - Percent the listing was funded.\n",
    "\n",
    "78. Recommendations - Number of recommendations the borrower had at the time the listing was created.\n",
    "\n",
    "79. InvestmentFromFriendsCount\t- Number of friends that made an investment in the loan.\n",
    "\n",
    "80. InvestmentFromFriendsAmount - Dollar amount of investments that were made by friends.\n",
    "\n",
    "81. Investors - The number of investors that funded the loan."
   ]
  },
  {
   "cell_type": "markdown",
   "id": "f0e8353f",
   "metadata": {
    "slideshow": {
     "slide_type": "skip"
    }
   },
   "source": [
    "### What is the structure of your dataset?\n",
    "\n",
    "Loans data has 113937 rows and 81 columns. The data types include: integers, floats, strings but no dates. "
   ]
  },
  {
   "cell_type": "markdown",
   "id": "0789eb6b",
   "metadata": {
    "slideshow": {
     "slide_type": "skip"
    }
   },
   "source": [
    "### What is/are the main feature(s) of interest in your dataset?"
   ]
  },
  {
   "cell_type": "code",
   "execution_count": 7,
   "id": "0730bd50",
   "metadata": {
    "slideshow": {
     "slide_type": "skip"
    }
   },
   "outputs": [
    {
     "data": {
      "text/plain": [
       "Index(['ListingKey', 'ListingNumber', 'ListingCreationDate', 'CreditGrade',\n",
       "       'Term', 'LoanStatus', 'ClosedDate', 'BorrowerAPR', 'BorrowerRate',\n",
       "       'LenderYield', 'EstimatedEffectiveYield', 'EstimatedLoss',\n",
       "       'EstimatedReturn', 'ProsperRating (numeric)', 'ProsperRating (Alpha)',\n",
       "       'ProsperScore', 'ListingCategory (numeric)', 'BorrowerState',\n",
       "       'Occupation', 'EmploymentStatus', 'EmploymentStatusDuration',\n",
       "       'IsBorrowerHomeowner', 'CurrentlyInGroup', 'GroupKey',\n",
       "       'DateCreditPulled', 'CreditScoreRangeLower', 'CreditScoreRangeUpper',\n",
       "       'FirstRecordedCreditLine', 'CurrentCreditLines', 'OpenCreditLines',\n",
       "       'TotalCreditLinespast7years', 'OpenRevolvingAccounts',\n",
       "       'OpenRevolvingMonthlyPayment', 'InquiriesLast6Months', 'TotalInquiries',\n",
       "       'CurrentDelinquencies', 'AmountDelinquent', 'DelinquenciesLast7Years',\n",
       "       'PublicRecordsLast10Years', 'PublicRecordsLast12Months',\n",
       "       'RevolvingCreditBalance', 'BankcardUtilization',\n",
       "       'AvailableBankcardCredit', 'TotalTrades',\n",
       "       'TradesNeverDelinquent (percentage)', 'TradesOpenedLast6Months',\n",
       "       'DebtToIncomeRatio', 'IncomeRange', 'IncomeVerifiable',\n",
       "       'StatedMonthlyIncome', 'LoanKey', 'TotalProsperLoans',\n",
       "       'TotalProsperPaymentsBilled', 'OnTimeProsperPayments',\n",
       "       'ProsperPaymentsLessThanOneMonthLate',\n",
       "       'ProsperPaymentsOneMonthPlusLate', 'ProsperPrincipalBorrowed',\n",
       "       'ProsperPrincipalOutstanding', 'ScorexChangeAtTimeOfListing',\n",
       "       'LoanCurrentDaysDelinquent', 'LoanFirstDefaultedCycleNumber',\n",
       "       'LoanMonthsSinceOrigination', 'LoanNumber', 'LoanOriginalAmount',\n",
       "       'LoanOriginationDate', 'LoanOriginationQuarter', 'MemberKey',\n",
       "       'MonthlyLoanPayment', 'LP_CustomerPayments',\n",
       "       'LP_CustomerPrincipalPayments', 'LP_InterestandFees', 'LP_ServiceFees',\n",
       "       'LP_CollectionFees', 'LP_GrossPrincipalLoss', 'LP_NetPrincipalLoss',\n",
       "       'LP_NonPrincipalRecoverypayments', 'PercentFunded', 'Recommendations',\n",
       "       'InvestmentFromFriendsCount', 'InvestmentFromFriendsAmount',\n",
       "       'Investors'],\n",
       "      dtype='object')"
      ]
     },
     "execution_count": 7,
     "metadata": {},
     "output_type": "execute_result"
    }
   ],
   "source": [
    "# the 81 columns\n",
    "loans.columns"
   ]
  },
  {
   "cell_type": "markdown",
   "id": "8f98ad13",
   "metadata": {
    "slideshow": {
     "slide_type": "skip"
    }
   },
   "source": [
    "### What features in the dataset do you think will help support your investigation into your feature(s) of interest?\n",
    "\n",
    "The important columns in this visualization project include:\n",
    "- Term\n",
    "- Loan Status\n",
    "- Occupation\n",
    "\n",
    "\n",
    "How do these three features influence a borrower's ability to get a loan and the terms for these loans if possible. The Bank may also dedeuce trends from its different customers from different fields including whether they have a morgage or not and their loan habits. As a borrower, the data also allows me to estimate what term I woudl get if I applied for a loan in the bank\n",
    "\n",
    "Feature to use in my exploration are not limited to:\n",
    "- IsBorrowerHomeowner\n",
    "- LoanStatus\n",
    "- EstimatedLoss"
   ]
  },
  {
   "cell_type": "markdown",
   "id": "1a1ea568",
   "metadata": {
    "slideshow": {
     "slide_type": "skip"
    }
   },
   "source": [
    "##  Data Cleaning and Transformation"
   ]
  },
  {
   "cell_type": "code",
   "execution_count": 8,
   "id": "79fc4f41",
   "metadata": {
    "slideshow": {
     "slide_type": "skip"
    }
   },
   "outputs": [],
   "source": [
    "# make a copy of the data to clean\n",
    "loans_df=loans.copy()"
   ]
  },
  {
   "cell_type": "markdown",
   "id": "26906e99",
   "metadata": {
    "slideshow": {
     "slide_type": "skip"
    }
   },
   "source": [
    "### Define\n",
    "ListingCreationDate, ClosedDate columns are of string data type"
   ]
  },
  {
   "cell_type": "markdown",
   "id": "b94966ab",
   "metadata": {
    "slideshow": {
     "slide_type": "skip"
    }
   },
   "source": [
    "### Code\n",
    "Convert from string to date"
   ]
  },
  {
   "cell_type": "code",
   "execution_count": 9,
   "id": "9681c1bd",
   "metadata": {
    "slideshow": {
     "slide_type": "skip"
    }
   },
   "outputs": [],
   "source": [
    "# convert ListingCreationDate to date.\n",
    "loans_df['ListingCreationDate'] = pd.to_datetime(loans_df['ListingCreationDate'])\n",
    "loans_df['ClosedDate'] = pd.to_datetime(loans_df['ClosedDate'])"
   ]
  },
  {
   "cell_type": "markdown",
   "id": "3f8ce5ea",
   "metadata": {
    "slideshow": {
     "slide_type": "skip"
    }
   },
   "source": [
    "### Test"
   ]
  },
  {
   "cell_type": "code",
   "execution_count": 10,
   "id": "fd60e9b3",
   "metadata": {
    "slideshow": {
     "slide_type": "skip"
    }
   },
   "outputs": [
    {
     "name": "stdout",
     "output_type": "stream",
     "text": [
      "datetime64[ns]\n",
      "datetime64[ns]\n"
     ]
    }
   ],
   "source": [
    "# confirm it is no longer a string\n",
    "print(loans_df.ListingCreationDate.dtype)\n",
    "print(loans_df.ClosedDate.dtype)\n"
   ]
  },
  {
   "cell_type": "code",
   "execution_count": 11,
   "id": "acf5cc90",
   "metadata": {
    "slideshow": {
     "slide_type": "skip"
    }
   },
   "outputs": [
    {
     "data": {
      "text/html": [
       "<div>\n",
       "<style scoped>\n",
       "    .dataframe tbody tr th:only-of-type {\n",
       "        vertical-align: middle;\n",
       "    }\n",
       "\n",
       "    .dataframe tbody tr th {\n",
       "        vertical-align: top;\n",
       "    }\n",
       "\n",
       "    .dataframe thead th {\n",
       "        text-align: right;\n",
       "    }\n",
       "</style>\n",
       "<table border=\"1\" class=\"dataframe\">\n",
       "  <thead>\n",
       "    <tr style=\"text-align: right;\">\n",
       "      <th></th>\n",
       "      <th>ListingKey</th>\n",
       "      <th>ListingNumber</th>\n",
       "      <th>ListingCreationDate</th>\n",
       "      <th>CreditGrade</th>\n",
       "      <th>Term</th>\n",
       "      <th>LoanStatus</th>\n",
       "      <th>ClosedDate</th>\n",
       "      <th>BorrowerAPR</th>\n",
       "      <th>BorrowerRate</th>\n",
       "      <th>LenderYield</th>\n",
       "      <th>...</th>\n",
       "      <th>LP_ServiceFees</th>\n",
       "      <th>LP_CollectionFees</th>\n",
       "      <th>LP_GrossPrincipalLoss</th>\n",
       "      <th>LP_NetPrincipalLoss</th>\n",
       "      <th>LP_NonPrincipalRecoverypayments</th>\n",
       "      <th>PercentFunded</th>\n",
       "      <th>Recommendations</th>\n",
       "      <th>InvestmentFromFriendsCount</th>\n",
       "      <th>InvestmentFromFriendsAmount</th>\n",
       "      <th>Investors</th>\n",
       "    </tr>\n",
       "  </thead>\n",
       "  <tbody>\n",
       "    <tr>\n",
       "      <th>0</th>\n",
       "      <td>1021339766868145413AB3B</td>\n",
       "      <td>193129</td>\n",
       "      <td>2007-08-26 19:09:29.263</td>\n",
       "      <td>C</td>\n",
       "      <td>36</td>\n",
       "      <td>Completed</td>\n",
       "      <td>2009-08-14</td>\n",
       "      <td>0.16516</td>\n",
       "      <td>0.1580</td>\n",
       "      <td>0.1380</td>\n",
       "      <td>...</td>\n",
       "      <td>-133.18</td>\n",
       "      <td>0.0</td>\n",
       "      <td>0.0</td>\n",
       "      <td>0.0</td>\n",
       "      <td>0.0</td>\n",
       "      <td>1.0</td>\n",
       "      <td>0</td>\n",
       "      <td>0</td>\n",
       "      <td>0.0</td>\n",
       "      <td>258</td>\n",
       "    </tr>\n",
       "    <tr>\n",
       "      <th>1</th>\n",
       "      <td>10273602499503308B223C1</td>\n",
       "      <td>1209647</td>\n",
       "      <td>2014-02-27 08:28:07.900</td>\n",
       "      <td>NaN</td>\n",
       "      <td>36</td>\n",
       "      <td>Current</td>\n",
       "      <td>NaT</td>\n",
       "      <td>0.12016</td>\n",
       "      <td>0.0920</td>\n",
       "      <td>0.0820</td>\n",
       "      <td>...</td>\n",
       "      <td>0.00</td>\n",
       "      <td>0.0</td>\n",
       "      <td>0.0</td>\n",
       "      <td>0.0</td>\n",
       "      <td>0.0</td>\n",
       "      <td>1.0</td>\n",
       "      <td>0</td>\n",
       "      <td>0</td>\n",
       "      <td>0.0</td>\n",
       "      <td>1</td>\n",
       "    </tr>\n",
       "    <tr>\n",
       "      <th>2</th>\n",
       "      <td>0EE9337825851032864889A</td>\n",
       "      <td>81716</td>\n",
       "      <td>2007-01-05 15:00:47.090</td>\n",
       "      <td>HR</td>\n",
       "      <td>36</td>\n",
       "      <td>Completed</td>\n",
       "      <td>2009-12-17</td>\n",
       "      <td>0.28269</td>\n",
       "      <td>0.2750</td>\n",
       "      <td>0.2400</td>\n",
       "      <td>...</td>\n",
       "      <td>-24.20</td>\n",
       "      <td>0.0</td>\n",
       "      <td>0.0</td>\n",
       "      <td>0.0</td>\n",
       "      <td>0.0</td>\n",
       "      <td>1.0</td>\n",
       "      <td>0</td>\n",
       "      <td>0</td>\n",
       "      <td>0.0</td>\n",
       "      <td>41</td>\n",
       "    </tr>\n",
       "    <tr>\n",
       "      <th>3</th>\n",
       "      <td>0EF5356002482715299901A</td>\n",
       "      <td>658116</td>\n",
       "      <td>2012-10-22 11:02:35.010</td>\n",
       "      <td>NaN</td>\n",
       "      <td>36</td>\n",
       "      <td>Current</td>\n",
       "      <td>NaT</td>\n",
       "      <td>0.12528</td>\n",
       "      <td>0.0974</td>\n",
       "      <td>0.0874</td>\n",
       "      <td>...</td>\n",
       "      <td>-108.01</td>\n",
       "      <td>0.0</td>\n",
       "      <td>0.0</td>\n",
       "      <td>0.0</td>\n",
       "      <td>0.0</td>\n",
       "      <td>1.0</td>\n",
       "      <td>0</td>\n",
       "      <td>0</td>\n",
       "      <td>0.0</td>\n",
       "      <td>158</td>\n",
       "    </tr>\n",
       "    <tr>\n",
       "      <th>4</th>\n",
       "      <td>0F023589499656230C5E3E2</td>\n",
       "      <td>909464</td>\n",
       "      <td>2013-09-14 18:38:39.097</td>\n",
       "      <td>NaN</td>\n",
       "      <td>36</td>\n",
       "      <td>Current</td>\n",
       "      <td>NaT</td>\n",
       "      <td>0.24614</td>\n",
       "      <td>0.2085</td>\n",
       "      <td>0.1985</td>\n",
       "      <td>...</td>\n",
       "      <td>-60.27</td>\n",
       "      <td>0.0</td>\n",
       "      <td>0.0</td>\n",
       "      <td>0.0</td>\n",
       "      <td>0.0</td>\n",
       "      <td>1.0</td>\n",
       "      <td>0</td>\n",
       "      <td>0</td>\n",
       "      <td>0.0</td>\n",
       "      <td>20</td>\n",
       "    </tr>\n",
       "  </tbody>\n",
       "</table>\n",
       "<p>5 rows × 81 columns</p>\n",
       "</div>"
      ],
      "text/plain": [
       "                ListingKey  ListingNumber     ListingCreationDate CreditGrade  \\\n",
       "0  1021339766868145413AB3B         193129 2007-08-26 19:09:29.263           C   \n",
       "1  10273602499503308B223C1        1209647 2014-02-27 08:28:07.900         NaN   \n",
       "2  0EE9337825851032864889A          81716 2007-01-05 15:00:47.090          HR   \n",
       "3  0EF5356002482715299901A         658116 2012-10-22 11:02:35.010         NaN   \n",
       "4  0F023589499656230C5E3E2         909464 2013-09-14 18:38:39.097         NaN   \n",
       "\n",
       "   Term LoanStatus ClosedDate  BorrowerAPR  BorrowerRate  LenderYield  ...  \\\n",
       "0    36  Completed 2009-08-14      0.16516        0.1580       0.1380  ...   \n",
       "1    36    Current        NaT      0.12016        0.0920       0.0820  ...   \n",
       "2    36  Completed 2009-12-17      0.28269        0.2750       0.2400  ...   \n",
       "3    36    Current        NaT      0.12528        0.0974       0.0874  ...   \n",
       "4    36    Current        NaT      0.24614        0.2085       0.1985  ...   \n",
       "\n",
       "   LP_ServiceFees  LP_CollectionFees  LP_GrossPrincipalLoss  \\\n",
       "0         -133.18                0.0                    0.0   \n",
       "1            0.00                0.0                    0.0   \n",
       "2          -24.20                0.0                    0.0   \n",
       "3         -108.01                0.0                    0.0   \n",
       "4          -60.27                0.0                    0.0   \n",
       "\n",
       "   LP_NetPrincipalLoss LP_NonPrincipalRecoverypayments  PercentFunded  \\\n",
       "0                  0.0                             0.0            1.0   \n",
       "1                  0.0                             0.0            1.0   \n",
       "2                  0.0                             0.0            1.0   \n",
       "3                  0.0                             0.0            1.0   \n",
       "4                  0.0                             0.0            1.0   \n",
       "\n",
       "   Recommendations InvestmentFromFriendsCount InvestmentFromFriendsAmount  \\\n",
       "0                0                          0                         0.0   \n",
       "1                0                          0                         0.0   \n",
       "2                0                          0                         0.0   \n",
       "3                0                          0                         0.0   \n",
       "4                0                          0                         0.0   \n",
       "\n",
       "  Investors  \n",
       "0       258  \n",
       "1         1  \n",
       "2        41  \n",
       "3       158  \n",
       "4        20  \n",
       "\n",
       "[5 rows x 81 columns]"
      ]
     },
     "execution_count": 11,
     "metadata": {},
     "output_type": "execute_result"
    }
   ],
   "source": [
    "loans_df.head()"
   ]
  },
  {
   "cell_type": "markdown",
   "id": "04ee54fc",
   "metadata": {
    "slideshow": {
     "slide_type": "skip"
    }
   },
   "source": [
    "### Define\n",
    "Important columns with missing values. \n",
    "['EstimatedEffectiveYield', 'BorrowerAPR', 'ProsperRating (numeric)', 'EmploymentStatusDuration', 'ProsperScore', 'EstimatedLoss', 'EstimatedReturn']"
   ]
  },
  {
   "cell_type": "markdown",
   "id": "9c351fb4",
   "metadata": {
    "slideshow": {
     "slide_type": "skip"
    }
   },
   "source": [
    "### Code\n",
    "write a function to impute the missing values with the mean"
   ]
  },
  {
   "cell_type": "code",
   "execution_count": 12,
   "id": "39f8351e",
   "metadata": {
    "slideshow": {
     "slide_type": "skip"
    }
   },
   "outputs": [],
   "source": [
    "# use a function to fill missing numeric values with mean\n",
    "cols = ['EstimatedEffectiveYield', 'BorrowerAPR', 'ProsperRating (numeric)', 'EmploymentStatusDuration', 'ProsperScore', 'EstimatedLoss', 'EstimatedReturn']\n",
    "for c in cols:\n",
    "    loans_df[c].fillna(loans_df[c].mean(), inplace = True)"
   ]
  },
  {
   "cell_type": "markdown",
   "id": "1eab9c2c",
   "metadata": {
    "slideshow": {
     "slide_type": "skip"
    }
   },
   "source": [
    "### Test"
   ]
  },
  {
   "cell_type": "code",
   "execution_count": 13,
   "id": "d1fefd3c",
   "metadata": {
    "slideshow": {
     "slide_type": "skip"
    }
   },
   "outputs": [
    {
     "data": {
      "text/plain": [
       "EstimatedEffectiveYield     0\n",
       "BorrowerAPR                 0\n",
       "ProsperRating (numeric)     0\n",
       "EmploymentStatusDuration    0\n",
       "ProsperScore                0\n",
       "EstimatedLoss               0\n",
       "EstimatedReturn             0\n",
       "dtype: int64"
      ]
     },
     "execution_count": 13,
     "metadata": {},
     "output_type": "execute_result"
    }
   ],
   "source": [
    "cols = ['EstimatedEffectiveYield', 'BorrowerAPR', 'ProsperRating (numeric)', 'EmploymentStatusDuration', 'ProsperScore', 'EstimatedLoss', 'EstimatedReturn']\n",
    "loans_df[cols].isnull().sum()"
   ]
  },
  {
   "cell_type": "markdown",
   "id": "5e3e4560",
   "metadata": {
    "slideshow": {
     "slide_type": "slide"
    }
   },
   "source": [
    "### Loan Term Popularity\n",
    "\n",
    "The most popular loan term is 36 months (87778) while the least common is 12 (1614). 36 months loan term is more than 3 times the 60 months loan term. 60 months loan term has (24545) records."
   ]
  },
  {
   "cell_type": "code",
   "execution_count": 14,
   "id": "cd7b2230",
   "metadata": {
    "slideshow": {
     "slide_type": "skip"
    }
   },
   "outputs": [
    {
     "data": {
      "text/plain": [
       "36    87778\n",
       "60    24545\n",
       "12     1614\n",
       "Name: Term, dtype: int64"
      ]
     },
     "execution_count": 14,
     "metadata": {},
     "output_type": "execute_result"
    }
   ],
   "source": [
    "loans_df['Term'].value_counts()"
   ]
  },
  {
   "cell_type": "code",
   "execution_count": 15,
   "id": "df818b87",
   "metadata": {
    "slideshow": {
     "slide_type": "skip"
    }
   },
   "outputs": [],
   "source": [
    "# create a function for generating un ordered count plots.\n",
    "def myCountPlot(df, xVar):\n",
    "    # set plot dimensions\n",
    "    plt.figure(figsize=[12,8])\n",
    "    # plot\n",
    "    sns.countplot(data=df, x=xVar, edgecolor='black', color=sns.color_palette()[0])\n",
    "    # Add title and format it\n",
    "    plt.title(f'''Distribution of {xVar}'''.title(), fontsize=14, weight='bold')\n",
    "    # Add xlabel and format it\n",
    "    plt.xlabel(xVar.title(), fontsize=10, weight='bold')\n",
    "    # Add ylabel and format it\n",
    "    plt.ylabel('Frequency'.title(), fontsize=10, weight='bold')"
   ]
  },
  {
   "cell_type": "code",
   "execution_count": 16,
   "id": "47f104cc",
   "metadata": {
    "slideshow": {
     "slide_type": "subslide"
    }
   },
   "outputs": [
    {
     "data": {
      "image/png": "[encoded data removed]",
      "text/plain": [
       "<Figure size 864x576 with 1 Axes>"
      ]
     },
     "metadata": {
      "needs_background": "light"
     },
     "output_type": "display_data"
    }
   ],
   "source": [
    "# us the function to plot a countplot of loan Terms. \n",
    "myCountPlot(loans_df, 'Term')"
   ]
  },
  {
   "cell_type": "markdown",
   "id": "749da0f7",
   "metadata": {
    "slideshow": {
     "slide_type": "skip"
    }
   },
   "source": [
    ">**Observations:** The most popular loan term is 36 months while the  least common is 12. 36 months loan term is more than 3 times the 60 months loan term."
   ]
  },
  {
   "cell_type": "markdown",
   "id": "5b60f2e1",
   "metadata": {
    "slideshow": {
     "slide_type": "skip"
    }
   },
   "source": [
    ">**Question:** From a geographical point of view, Which States are people most likely to take prosper loans and viceversa?"
   ]
  },
  {
   "cell_type": "markdown",
   "id": "6f697a56",
   "metadata": {
    "slideshow": {
     "slide_type": "slide"
    }
   },
   "source": [
    "### States where people are most likely to take prosper loans and viceversa\n",
    "\n",
    "California State has the largest number of borrowers which stands at over 14,000. North Dakota state on the contrary has the least number, 52. However, we would need population information to be able to do some feature engineering to decide states with the highest loan uptake rate."
   ]
  },
  {
   "cell_type": "code",
   "execution_count": 17,
   "id": "5f511f60",
   "metadata": {
    "slideshow": {
     "slide_type": "skip"
    }
   },
   "outputs": [],
   "source": [
    "# create a function for generating ordered count plots.\n",
    "\n",
    "def myCountPlotOrder(df, yVar):\n",
    "    # set plot dimensions\n",
    "    plt.figure(figsize=[12,8])\n",
    "    # order\n",
    "    count=df[yVar].value_counts().index\n",
    "    # one base color\n",
    "    base_color=sns.color_palette()[0]\n",
    "    # plot\n",
    "    sns.catplot(data=df, y=yVar, kind='count', order=count, height=12, color = base_color)\n",
    "    # Add title and format it\n",
    "    plt.title(f'''Distribution of {yVar}'''.title(), fontsize=14, weight='bold')\n",
    "    # Add xlabel and format it\n",
    "    plt.xlabel('Frequency'.title(), fontsize=10, weight='bold')\n",
    "    # Add ylabel and format it\n",
    "    plt.ylabel(yVar.title(), fontsize=10, weight='bold')"
   ]
  },
  {
   "cell_type": "code",
   "execution_count": 18,
   "id": "becb6e0f",
   "metadata": {
    "slideshow": {
     "slide_type": "skip"
    }
   },
   "outputs": [
    {
     "data": {
      "text/plain": [
       "CA    14717\n",
       "TX     6842\n",
       "NY     6729\n",
       "FL     6720\n",
       "IL     5921\n",
       "GA     5008\n",
       "OH     4197\n",
       "MI     3593\n",
       "VA     3278\n",
       "NJ     3097\n",
       "NC     3084\n",
       "WA     3048\n",
       "PA     2972\n",
       "MD     2821\n",
       "MO     2615\n",
       "MN     2318\n",
       "MA     2242\n",
       "CO     2210\n",
       "IN     2078\n",
       "AZ     1901\n",
       "WI     1842\n",
       "OR     1817\n",
       "TN     1737\n",
       "AL     1679\n",
       "CT     1627\n",
       "SC     1122\n",
       "NV     1090\n",
       "KS     1062\n",
       "KY      983\n",
       "OK      971\n",
       "LA      954\n",
       "UT      877\n",
       "AR      855\n",
       "MS      787\n",
       "NE      674\n",
       "ID      599\n",
       "NH      551\n",
       "NM      472\n",
       "RI      435\n",
       "HI      409\n",
       "WV      391\n",
       "DC      382\n",
       "MT      330\n",
       "DE      300\n",
       "VT      207\n",
       "AK      200\n",
       "SD      189\n",
       "IA      186\n",
       "WY      150\n",
       "ME      101\n",
       "ND       52\n",
       "Name: BorrowerState, dtype: int64"
      ]
     },
     "execution_count": 18,
     "metadata": {},
     "output_type": "execute_result"
    }
   ],
   "source": [
    " loans_df['BorrowerState'].value_counts()"
   ]
  },
  {
   "cell_type": "code",
   "execution_count": 19,
   "id": "5d6f7ea8",
   "metadata": {
    "slideshow": {
     "slide_type": "subslide"
    }
   },
   "outputs": [
    {
     "data": {
      "text/plain": [
       "<Figure size 864x576 with 0 Axes>"
      ]
     },
     "metadata": {},
     "output_type": "display_data"
    },
    {
     "data": {
      "image/png": "[encoded data removed]",
      "text/plain": [
       "<Figure size 864x864 with 1 Axes>"
      ]
     },
     "metadata": {
      "needs_background": "light"
     },
     "output_type": "display_data"
    }
   ],
   "source": [
    "# use the function to plot the counts of BorrowerStates\n",
    "myCountPlotOrder(loans_df, 'BorrowerState')"
   ]
  },
  {
   "cell_type": "markdown",
   "id": "5101b194",
   "metadata": {
    "slideshow": {
     "slide_type": "skip"
    }
   },
   "source": [
    ">**Observation:** California State has the largest number of borrowers which stands at over 14,000. North Dakota state on the contrary has the least number, 52. However, we would need population information to be able to do some feature engineering to decide states with the highest loan uptake rate. "
   ]
  },
  {
   "cell_type": "markdown",
   "id": "ef466ffb",
   "metadata": {
    "slideshow": {
     "slide_type": "slide"
    }
   },
   "source": [
    "### Percentage of borrowers with homes\n",
    "\n",
    "Borrowers are almost split into half. Both those with homes and those without are taking loans. 49.6% do not have mortgages while 50.4% of borrowers have mortgages."
   ]
  },
  {
   "cell_type": "code",
   "execution_count": 20,
   "id": "4c8a27d1",
   "metadata": {
    "slideshow": {
     "slide_type": "subslide"
    }
   },
   "outputs": [
    {
     "data": {
      "image/png": "[encoded data removed]",
      "text/plain": [
       "<Figure size 432x288 with 1 Axes>"
      ]
     },
     "metadata": {},
     "output_type": "display_data"
    }
   ],
   "source": [
    "homes = loans_df.IsBorrowerHomeowner.value_counts()\n",
    "\n",
    "\n",
    "plt.pie(homes, labels = homes.index,  autopct='%1.1f%%', startangle = 90, counterclock=False, wedgeprops = {'width' : 0.8});\n",
    "plt.title('Home Owners Percentage');"
   ]
  },
  {
   "cell_type": "markdown",
   "id": "fe60f41e",
   "metadata": {
    "slideshow": {
     "slide_type": "skip"
    }
   },
   "source": [
    ">**Observation:** Borrowers are almost split into half. Both those with homes and those without are taking loans."
   ]
  },
  {
   "cell_type": "markdown",
   "id": "2e3af71b",
   "metadata": {
    "slideshow": {
     "slide_type": "slide"
    }
   },
   "source": [
    "### How does the estimated loss compare among the three loan terms?\n",
    "\n",
    "Estimated Loss for loans at 12 month terms are low compared to the estimated loss for 36 month Term loans. A couple of outliers are also observed in the 36 month term."
   ]
  },
  {
   "cell_type": "code",
   "execution_count": 21,
   "id": "66cbb7d2",
   "metadata": {
    "slideshow": {
     "slide_type": "skip"
    }
   },
   "outputs": [],
   "source": [
    "def myBoxPlot(df, xVar,yVar):\n",
    "    # define figsize\n",
    "    plt.figure(figsize=[12,8])\n",
    "    # use one base color\n",
    "    base_color=sns.color_palette()[0]\n",
    "    # plot\n",
    "    sns.boxplot(data=df, x=xVar, y=yVar, color=base_color)\n",
    "    # Add title and format it\n",
    "    plt.title(f'''Boxplot {yVar} : {xVar}'''.title(), fontsize=14, weight='bold')\n",
    "    # Add xlabel and format it\n",
    "    plt.xlabel(xVar, fontsize=10, weight='bold')\n",
    "    # Add ylabel and format it\n",
    "    plt.ylabel(yVar, fontsize=10, weight='bold')"
   ]
  },
  {
   "cell_type": "code",
   "execution_count": 22,
   "id": "b7e76401",
   "metadata": {
    "slideshow": {
     "slide_type": "subslide"
    }
   },
   "outputs": [
    {
     "data": {
      "image/png": "[encoded data removed]",
      "text/plain": [
       "<Figure size 864x576 with 1 Axes>"
      ]
     },
     "metadata": {
      "needs_background": "light"
     },
     "output_type": "display_data"
    }
   ],
   "source": [
    "# plot the boxplot to show the relationship between EstimatedLoss and Term\n",
    "myBoxPlot(loans_df, 'Term', 'EstimatedLoss')"
   ]
  },
  {
   "cell_type": "markdown",
   "id": "4de72c66",
   "metadata": {
    "slideshow": {
     "slide_type": "skip"
    }
   },
   "source": [
    ">**Observation:** Estimated Loss for loans at 12 month terms are low compared to the estimated loss for 36 month Term loans. A couple of outliers are also observed in the 36 month term."
   ]
  },
  {
   "cell_type": "code",
   "execution_count": null,
   "id": "dfea9b15",
   "metadata": {
    "slideshow": {
     "slide_type": "skip"
    }
   },
   "outputs": [],
   "source": [
    "!jupyter nbconvert ProsperLoadDataPresentation_Part2.ipynb --to slides --post serve --no-input --no-prompt"
   ]
  }
 ],
 "metadata": {
  "celltoolbar": "Slideshow",
  "kernelspec": {
   "display_name": "Python 3 (ipykernel)",
   "language": "python",
   "name": "python3"
  },
  "language_info": {
   "codemirror_mode": {
    "name": "ipython",
    "version": 3
   },
   "file_extension": ".py",
   "mimetype": "text/x-python",
   "name": "python",
   "nbconvert_exporter": "python",
   "pygments_lexer": "ipython3",
   "version": "3.9.7"
  },
  "vscode": {
   "interpreter": {
    "hash": "605801abee6af3da22b3d36c409e2e472ae4fe6373a00d3bff07b054a2f34ed7"
   }
  }
 },
 "nbformat": 4,
 "nbformat_minor": 5
}
